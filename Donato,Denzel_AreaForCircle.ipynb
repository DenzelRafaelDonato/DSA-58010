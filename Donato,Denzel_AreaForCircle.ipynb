{
  "nbformat": 4,
  "nbformat_minor": 0,
  "metadata": {
    "colab": {
      "name": "Donato,Denzel_AreaForCircle.ipynb",
      "provenance": [],
      "authorship_tag": "ABX9TyP76loF3hVRhBmx/hubDIN9",
      "include_colab_link": true
    },
    "kernelspec": {
      "name": "python3",
      "display_name": "Python 3"
    },
    "language_info": {
      "name": "python"
    }
  },
  "cells": [
    {
      "cell_type": "markdown",
      "metadata": {
        "id": "view-in-github",
        "colab_type": "text"
      },
      "source": [
        "<a href=\"https://colab.research.google.com/github/DenzelRafaelDonato/DSA-58010/blob/main/Donato%2CDenzel_AreaForCircle.ipynb\" target=\"_parent\"><img src=\"https://colab.research.google.com/assets/colab-badge.svg\" alt=\"Open In Colab\"/></a>"
      ]
    },
    {
      "cell_type": "code",
      "execution_count": 5,
      "metadata": {
        "colab": {
          "base_uri": "https://localhost:8080/"
        },
        "id": "ImvFeTdqT70o",
        "outputId": "ad3995d5-158b-41b3-a904-5fef1c08d1df"
      },
      "outputs": [
        {
          "output_type": "stream",
          "name": "stdout",
          "text": [
            "Please enter a value for radius: 12\n",
            "The area of the circle (using radius) is:  452.3893421169302\n"
          ]
        }
      ],
      "source": [
        "#A python program that solves an area of the circle using radius\n",
        "class Circle: #Class function\n",
        "  def __init__(self,radius):\n",
        "    self.radius = radius\n",
        "  def AreaUsingRadius(self):\n",
        "    return 3.141592653589793238*self.radius**2\n",
        "  def display1(self):\n",
        "    print (\"The area of the circle (using radius) is: \", self.AreaUsingRadius())\n",
        "  \n",
        "c1=Circle(float(input(\"Please enter a value for radius: \")))\n",
        "c1.display1()"
      ]
    },
    {
      "cell_type": "code",
      "source": [
        "#A python program that solves an area of the circle using diameter\n",
        "class Circle: #Class function\n",
        "  def __init__(self,diameter):\n",
        "    self.diameter = diameter\n",
        "  def AreaUsingDiameter(self):\n",
        "    return (3.141592653589793238*self.diameter**2)/4\n",
        "  def display2(self):\n",
        "    print (\"The area of the circle (using diameter) is: \", self.AreaUsingDiameter())\n",
        "\n",
        "c2=Circle(float(input(\"Please enter a value for diameter: \")))\n",
        "c2.display2()"
      ],
      "metadata": {
        "colab": {
          "base_uri": "https://localhost:8080/"
        },
        "id": "e4f4vwKMbSQH",
        "outputId": "5b58dcf6-119a-433b-965e-0c5f7ca72aad"
      },
      "execution_count": 9,
      "outputs": [
        {
          "output_type": "stream",
          "name": "stdout",
          "text": [
            "Please enter a value for diameter: 12\n",
            "The area of the circle (using diameter) is:  113.09733552923255\n"
          ]
        }
      ]
    }
  ]
}