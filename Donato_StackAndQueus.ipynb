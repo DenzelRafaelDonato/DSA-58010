{
  "nbformat": 4,
  "nbformat_minor": 0,
  "metadata": {
    "colab": {
      "provenance": [],
      "collapsed_sections": [],
      "authorship_tag": "ABX9TyNw2qi/IjL7uNlJjGnBO/5f",
      "include_colab_link": true
    },
    "kernelspec": {
      "name": "python3",
      "display_name": "Python 3"
    },
    "language_info": {
      "name": "python"
    }
  },
  "cells": [
    {
      "cell_type": "markdown",
      "metadata": {
        "id": "view-in-github",
        "colab_type": "text"
      },
      "source": [
        "<a href=\"https://colab.research.google.com/github/DenzelRafaelDonato/DSA-58010/blob/main/Donato_StackAndQueus.ipynb\" target=\"_parent\"><img src=\"https://colab.research.google.com/assets/colab-badge.svg\" alt=\"Open In Colab\"/></a>"
      ]
    },
    {
      "cell_type": "code",
      "execution_count": null,
      "metadata": {
        "colab": {
          "base_uri": "https://localhost:8080/"
        },
        "id": "6MVUcpiPFAGe",
        "outputId": "7e9a3cf5-190e-478d-98c0-7337c650bc40"
      },
      "outputs": [
        {
          "output_type": "stream",
          "name": "stdout",
          "text": [
            "The list of elements in the stack are:\n",
            "['Mon', 'Tue', 'Wed', 'Thu']\n",
            "Thu\n",
            "Wed\n",
            "\n",
            "After popping Thursday, the new elements in the stack are:\n",
            "['Mon', 'Tue']\n"
          ]
        }
      ],
      "source": [
        "class Stack:\n",
        "   def __init__(self):\n",
        "      self.stack = []\n",
        "\n",
        "   def add(self, dataval):\n",
        "# Use list append method to add element\n",
        "      if dataval not in self.stack:\n",
        "         self.stack.append(dataval)\n",
        "         return True\n",
        "      else:\n",
        "         return False\n",
        "# Use list pop method to remove element\n",
        "   def remove(self):\n",
        "      if len(self.stack) <= 0:\n",
        "         return (\"No element in the Stack\")\n",
        "      else:\n",
        "         return self.stack.pop()\n",
        "AStack = []\n",
        "#to APPEND/push all the elements in the stack\n",
        "AStack.append(\"Mon\")\n",
        "AStack.append(\"Tue\")\n",
        "AStack.append(\"Wed\")\n",
        "AStack.append(\"Thu\")\n",
        "print(\"The list of elements in the stack are:\")\n",
        "print(AStack)\n",
        "#to remove each element/pop()\n",
        "print(AStack.pop())\n",
        "print(AStack.pop())\n",
        "print(\"\\nAfter popping Thursday, the new elements in the stack are:\")\n",
        "print(AStack)\n",
        "\n",
        "#AStack = Stack()\n",
        "#AStack.add(\"Mon\")\n",
        "#AStack.add(\"Tue\")\n",
        "#AStack.add(\"Wed\")\n",
        "#AStack.add(\"Thu\")\n",
        "#print(AStack.remove())\n",
        "#print(AStack.remove())\n",
        "#print(AStack.remove())\n"
      ]
    },
    {
      "cell_type": "code",
      "source": [
        "#Python program to demo stack using linked list\n",
        "\n",
        "class Node:\n",
        "  def __init__(self,data):\n",
        "    self.data = data\n",
        "    self.next = None #initialize as null\n",
        "\n",
        "class LinkedList:\n",
        "  def __init__(self):\n",
        "    self.head = None #initialize as null\n",
        "  def printList(self):\n",
        "    temp = self.head\n",
        "    while(temp):\n",
        "      print(temp.data)\n",
        "      temp = temp.next\n",
        "\n",
        "llist = LinkedList()\n",
        "llist.head = Node(\"Mon\")\n",
        "second = Node(\"Tue\")\n",
        "third = Node(\"Wed\")\n",
        "fourth = Node(\"Thu\")\n",
        "\n",
        "llist.head.next = second\n",
        "second.next = third\n",
        "third.next = fourth\n",
        "\n",
        "llist.printList()"
      ],
      "metadata": {
        "colab": {
          "base_uri": "https://localhost:8080/"
        },
        "id": "VcxAKYMjNMt-",
        "outputId": "3e5a225b-04d1-4f13-b4c9-e1092925f661"
      },
      "execution_count": null,
      "outputs": [
        {
          "output_type": "stream",
          "name": "stdout",
          "text": [
            "Mon\n",
            "Tue\n",
            "Wed\n",
            "Thu\n"
          ]
        }
      ]
    },
    {
      "cell_type": "code",
      "source": [
        "#Python program to demo stack using Linked List\n",
        "\n",
        "class Stack:\n",
        "  def __init__(self):\n",
        "    self.stack = []\n",
        "class Node:\n",
        "  def __init__(self,data):\n",
        "    self.data = data\n",
        "    self.next = None   #initialize as null\n",
        "class LinkedList:\n",
        "  def __init__(self):\n",
        "    self.head = None  #initialize head as null\n",
        "  def printList(self):\n",
        "    temp = self.head\n",
        "    while(temp):\n",
        "      print(temp.data)\n",
        "      temp = temp.next\n",
        "  def is_empty(self):\n",
        "    if self.head == None:\n",
        "      return True\n",
        "    else:\n",
        "      return False\n",
        "\n",
        "  def pop(self):\n",
        "    if self.is_empty():\n",
        "      return None\n",
        "    else:\n",
        "      poppednode = fourth\n",
        "      return poppednode.data\n",
        "\n",
        "llist = LinkedList()\n",
        "llist.head = Node('Mon')\n",
        "second = Node(\"Tue\")\n",
        "third = Node('Wed')\n",
        "fourth = Node(\"Thu\")\n",
        "\n",
        "llist.head.next = second\n",
        "second.next = third\n",
        "third.next = fourth\n",
        "\n",
        "llist.printList()\n",
        "llist.pop()\n"
      ],
      "metadata": {
        "colab": {
          "base_uri": "https://localhost:8080/",
          "height": 109
        },
        "id": "tSBEjewWX99I",
        "outputId": "12c9a333-18e1-4f58-bfb1-8356ad2db766"
      },
      "execution_count": null,
      "outputs": [
        {
          "output_type": "stream",
          "name": "stdout",
          "text": [
            "Mon\n",
            "Tue\n",
            "Wed\n",
            "Thu\n"
          ]
        },
        {
          "output_type": "execute_result",
          "data": {
            "text/plain": [
              "'Thu'"
            ],
            "application/vnd.google.colaboratory.intrinsic+json": {
              "type": "string"
            }
          },
          "metadata": {},
          "execution_count": 35
        }
      ]
    },
    {
      "cell_type": "code",
      "source": [
        "#Recitation\n",
        "\n",
        "class Node:\n",
        "  def __init__(self,data):\n",
        "    self.data = data\n",
        "    self.next = None   #initialize as null\n",
        "class LinkedList:\n",
        "  def __init__(self):\n",
        "    self.head = None  #initialize head as null\n",
        "  def push(self,NewElmnt): #push function\n",
        "    NewNode = Node(NewElmnt)\n",
        "    if(self.head == None):\n",
        "      self.head = NewNode\n",
        "      return\n",
        "    else:\n",
        "      temp = self.head\n",
        "      while(temp.next != None):\n",
        "        temp = temp.next\n",
        "      temp.next = NewNode\n",
        "  def pop(self):         #pop function\n",
        "    if(self.head!= None):\n",
        "      if(self.head.next==None):\n",
        "        self.head = None\n",
        "      else:\n",
        "        temp = self.head\n",
        "        while(temp.next.next!=None):\n",
        "          temp = temp.next\n",
        "        lastNode = temp.next\n",
        "        temp.next = None\n",
        "        lastNode = None\n",
        "  def printList(self):  #for print/display\n",
        "    temp = self.head\n",
        "    while(temp):\n",
        "      print(temp.data)\n",
        "      temp = temp.next\n",
        "\n",
        "llist = LinkedList()\n",
        "llist.push(\"Mon\")\n",
        "llist.push(\"Tue\")\n",
        "llist.push(\"Wed\")\n",
        "llist.push(\"Thu\")\n",
        "\n",
        "#to remove the end element\n",
        "llist.pop()\n",
        "llist.printList()\n"
      ],
      "metadata": {
        "colab": {
          "base_uri": "https://localhost:8080/"
        },
        "id": "3pizGFXu2zpI",
        "outputId": "c0d582df-f803-4e28-cef6-64db33be6e65"
      },
      "execution_count": 59,
      "outputs": [
        {
          "output_type": "stream",
          "name": "stdout",
          "text": [
            "Mon\n",
            "Tue\n",
            "Wed\n"
          ]
        }
      ]
    }
  ]
}