{
  "nbformat": 4,
  "nbformat_minor": 0,
  "metadata": {
    "colab": {
      "provenance": [],
      "authorship_tag": "ABX9TyP5P+WGiy5E4kyc6xiQ4wUB",
      "include_colab_link": true
    },
    "kernelspec": {
      "name": "python3",
      "display_name": "Python 3"
    },
    "language_info": {
      "name": "python"
    }
  },
  "cells": [
    {
      "cell_type": "markdown",
      "metadata": {
        "id": "view-in-github",
        "colab_type": "text"
      },
      "source": [
        "<a href=\"https://colab.research.google.com/github/DenzelRafaelDonato/DSA-58010/blob/main/Donato_Activity3.ipynb\" target=\"_parent\"><img src=\"https://colab.research.google.com/assets/colab-badge.svg\" alt=\"Open In Colab\"/></a>"
      ]
    },
    {
      "cell_type": "code",
      "execution_count": 36,
      "metadata": {
        "colab": {
          "base_uri": "https://localhost:8080/"
        },
        "id": "6sPC5FBYPE-p",
        "outputId": "39552b90-e4fb-4618-ac65-d67e5e196ca3"
      },
      "outputs": [
        {
          "output_type": "stream",
          "name": "stdout",
          "text": [
            "Pushed Element: 1\n",
            "Pushed Element: 2\n",
            "Pushed Element: 3\n",
            "Pushed Element: 4\n",
            "Pushed Element: 5\n",
            "The elements in the stack are:['1', '2', '3', '4', '5']\n",
            "The length of the stack is: 5\n",
            "Popped 1st element: 5\n",
            "Popped 2nd element: 4\n",
            "Popped 3rd element: 3\n",
            "The stack after popping 3 elements: ['1', '2']\n",
            "New length of the stack: 2\n"
          ]
        }
      ],
      "source": [
        "# Stack implementation in python\n",
        "\n",
        "# Creating a stack\n",
        "def create_stack():\n",
        "    stack = []\n",
        "    return stack\n",
        "\n",
        "# Creating an empty stack\n",
        "def is_empty(stack):\n",
        "    return len(stack) == 0\n",
        "\n",
        "# Adding items into the stack\n",
        "def push(stack, item):\n",
        "    stack.append(item)\n",
        "    print(\"Pushed Element: \" + item)\n",
        "\n",
        "# Removing an element from the stack\n",
        "def pop(stack):\n",
        "    if (is_empty(stack)):\n",
        "        return \"The stack is empty\"\n",
        "        return stack.pop()\n",
        "    else:\n",
        "      poppednode = push\n",
        "      return poppednode.data\n",
        "\n",
        "stack = create_stack()\n",
        "\n",
        "push(stack, str(1))\n",
        "push(stack, str(2))\n",
        "push(stack, str(3))\n",
        "push(stack, str(4))\n",
        "push(stack, str(5))\n",
        "\n",
        "\n",
        "print(\"The elements in the stack are:\"+ str(stack))\n",
        "print(\"The length of the stack is:\", len(stack))\n",
        "print(\"Popped 1st element:\", stack.pop())\n",
        "print(\"Popped 2nd element:\", stack.pop())\n",
        "print(\"Popped 3rd element:\", stack.pop())\n",
        "print(\"The stack after popping 3 elements:\", stack)\n",
        "print(\"New length of the stack:\", len(stack))"
      ]
    }
  ]
}