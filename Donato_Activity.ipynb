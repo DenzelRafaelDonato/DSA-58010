{
  "nbformat": 4,
  "nbformat_minor": 0,
  "metadata": {
    "colab": {
      "provenance": [],
      "authorship_tag": "ABX9TyMJukDQNbpdAMC2uN86FamX",
      "include_colab_link": true
    },
    "kernelspec": {
      "name": "python3",
      "display_name": "Python 3"
    },
    "language_info": {
      "name": "python"
    }
  },
  "cells": [
    {
      "cell_type": "markdown",
      "metadata": {
        "id": "view-in-github",
        "colab_type": "text"
      },
      "source": [
        "<a href=\"https://colab.research.google.com/github/DenzelRafaelDonato/DSA-58010/blob/main/Donato_Activity.ipynb\" target=\"_parent\"><img src=\"https://colab.research.google.com/assets/colab-badge.svg\" alt=\"Open In Colab\"/></a>"
      ]
    },
    {
      "cell_type": "markdown",
      "source": [
        "Problem 1"
      ],
      "metadata": {
        "id": "tqoAENbwT1dT"
      }
    },
    {
      "cell_type": "code",
      "source": [
        "# a Python program to create an array of 10 integers and display the array items. Access individual elements through indexes and compute for the sum.\n",
        "intgrs = [1,2,3,6,7,8,9,11,12,13] #data\n",
        "sumofintegers=0\n",
        "\n",
        "for sum in intgrs: \n",
        "  if sum <= 13: \n",
        "    sumofintegers = sumofintegers + sum\n",
        "print(\"The sum of integers are:\",sumofintegers)"
      ],
      "metadata": {
        "colab": {
          "base_uri": "https://localhost:8080/"
        },
        "id": "gS0Ao7HlTz70",
        "outputId": "0cd1a708-9ad4-4b43-ce05-65f15abfbde3"
      },
      "execution_count": 16,
      "outputs": [
        {
          "output_type": "stream",
          "name": "stdout",
          "text": [
            "The sum of integers are: 72\n"
          ]
        }
      ]
    },
    {
      "cell_type": "markdown",
      "source": [
        "Problem 2"
      ],
      "metadata": {
        "id": "RZlsa5bnYYib"
      }
    },
    {
      "cell_type": "code",
      "source": [
        "\n",
        "#Write a Python program to append a new item to the end of the array. Original array: numbers = [1, 2, 3, 4, 5, 6, 7, 8, 9, 10]\n",
        "numbers = [1,2,3,4,5,6,7,8,9,10]\n",
        "numbers.append(30)\n",
        "print(\"original array:\",numbers)"
      ],
      "metadata": {
        "colab": {
          "base_uri": "https://localhost:8080/"
        },
        "id": "vFl8JPCRYaNv",
        "outputId": "79928532-1670-4aab-a62d-1123a604b02a"
      },
      "execution_count": 21,
      "outputs": [
        {
          "output_type": "stream",
          "name": "stdout",
          "text": [
            "new list: [1, 2, 3, 4, 5, 6, 7, 8, 9, 10, 30]\n"
          ]
        }
      ]
    },
    {
      "cell_type": "markdown",
      "source": [
        "Problem 3"
      ],
      "metadata": {
        "id": "WQzF6MnPZE1q"
      }
    },
    {
      "cell_type": "code",
      "source": [
        "#Write a Python program to insert a new item before the second element in an existing array. Original array: numbers = [1, 2, 3, 4, 5, 6, 7, 8, 9, 10]\n",
        "numbers=[1,2,3,4,5,6,8,9,10]\n",
        "numbers.insert(2,77)\n",
        "print(\"original array:\",numbers)"
      ],
      "metadata": {
        "colab": {
          "base_uri": "https://localhost:8080/"
        },
        "id": "SwBLWcLKZGqd",
        "outputId": "2d4fdc1c-2989-446c-c4a3-083ff8a4dd1a"
      },
      "execution_count": 22,
      "outputs": [
        {
          "output_type": "stream",
          "name": "stdout",
          "text": [
            "original array: [1, 2, 77, 3, 4, 5, 6, 8, 9, 10]\n"
          ]
        }
      ]
    },
    {
      "cell_type": "markdown",
      "source": [
        "Problem 4"
      ],
      "metadata": {
        "id": "4yBK4-sWae59"
      }
    },
    {
      "cell_type": "code",
      "source": [
        "#Write a Python program to reverse the order of the items in the array.Original array: numbers = [5, 4, 3, 2, 1]\n",
        "numbers=[5,4,3,2,1]\n",
        "numbers.reverse()\n",
        "print(\"new array:\",numbers)"
      ],
      "metadata": {
        "colab": {
          "base_uri": "https://localhost:8080/"
        },
        "id": "14ZHPi25Z6gP",
        "outputId": "30200811-8f21-4737-8ba7-d10a92543b6f"
      },
      "execution_count": 24,
      "outputs": [
        {
          "output_type": "stream",
          "name": "stdout",
          "text": [
            "new array: [1, 2, 3, 4, 5]\n"
          ]
        }
      ]
    },
    {
      "cell_type": "markdown",
      "source": [
        "Problem 5"
      ],
      "metadata": {
        "id": "o2DAjQB2ahu-"
      }
    },
    {
      "cell_type": "code",
      "source": [
        "#Write a Python program to get the length of the array. Original array: numbers = [5, 4, 3, 2, 1]\n",
        "numbers=[5,4,3,2,1]\n",
        "length = len(numbers)\n",
        "print(\"The length is\",length)"
      ],
      "metadata": {
        "colab": {
          "base_uri": "https://localhost:8080/"
        },
        "id": "OR4HAMipajqw",
        "outputId": "30c0c9d3-5d0e-4b08-a8d1-eb6e5fe173ca"
      },
      "execution_count": 25,
      "outputs": [
        {
          "output_type": "stream",
          "name": "stdout",
          "text": [
            "The length is 5\n"
          ]
        }
      ]
    }
  ]
}