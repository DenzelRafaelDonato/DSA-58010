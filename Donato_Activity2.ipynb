{
  "nbformat": 4,
  "nbformat_minor": 0,
  "metadata": {
    "colab": {
      "provenance": [],
      "authorship_tag": "ABX9TyMpX/6vFnCzvBc5sUA6W+z6",
      "include_colab_link": true
    },
    "kernelspec": {
      "name": "python3",
      "display_name": "Python 3"
    },
    "language_info": {
      "name": "python"
    }
  },
  "cells": [
    {
      "cell_type": "markdown",
      "metadata": {
        "id": "view-in-github",
        "colab_type": "text"
      },
      "source": [
        "<a href=\"https://colab.research.google.com/github/DenzelRafaelDonato/DSA-58010/blob/main/Donato_Activity2.ipynb\" target=\"_parent\"><img src=\"https://colab.research.google.com/assets/colab-badge.svg\" alt=\"Open In Colab\"/></a>"
      ]
    },
    {
      "cell_type": "code",
      "execution_count": 34,
      "metadata": {
        "colab": {
          "base_uri": "https://localhost:8080/"
        },
        "id": "InA9PeEAC5hB",
        "outputId": "478f94e5-f1c6-4afb-84a3-ee96dd8da69c"
      },
      "outputs": [
        {
          "output_type": "stream",
          "name": "stdout",
          "text": [
            "The prime numbers not more than 20:\n",
            "2\n",
            "3\n",
            "5\n",
            "7\n",
            "11\n",
            "13\n",
            "17\n",
            "19\n",
            "\n",
            "Head of the Prime List: 2\n",
            "Tail of the Prime List: 19\n"
          ]
        }
      ],
      "source": [
        "#Create a singly linked list of prime numbers less than 20.\n",
        "class Node:\n",
        "  def __init__(self,primenum):\n",
        "    self.primenum = primenum #assign primenum\n",
        "    self.next = None #initialize next as null\n",
        "\n",
        "class PrimeLinkedList: \n",
        "  def __init__(self):\n",
        "    self.head = None #initialize head as null\n",
        "    self.tail = None #initialize tail as null\n",
        "  def PrimeNumList(self): #define function\n",
        "    func = self.head\n",
        "    while(func!=None):\n",
        "      print(func.primenum)\n",
        "      func = func.next\n",
        "\n",
        "\n",
        "list = PrimeLinkedList() #prime numbers linked list\n",
        "list.head = Node(2)\n",
        "second = Node(3)\n",
        "third = Node(5)\n",
        "fourth = Node(7)\n",
        "fifth = Node(11)\n",
        "sixth = Node(13)\n",
        "seventh = Node(17)\n",
        "list.eighthtail = Node(19)\n",
        "\n",
        "list.head.next=second\n",
        "second.next=third\n",
        "third.next=fourth\n",
        "fourth.next=fifth\n",
        "fifth.next=sixth\n",
        "sixth.next=seventh\n",
        "seventh.next=list.eighthtail\n",
        "\n",
        "print(\"The prime numbers not more than 20:\")\n",
        "\n",
        "list.PrimeNumList()\n",
        "\n",
        "#print of head and tail\n",
        "print(\"\\nHead of the Prime List:\",list.head.primenum)\n",
        "print(\"Tail of the Prime List:\",list.eighthtail.primenum)\n"
      ]
    }
  ]
}