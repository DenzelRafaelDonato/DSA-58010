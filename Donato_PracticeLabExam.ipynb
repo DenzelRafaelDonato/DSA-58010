{
  "nbformat": 4,
  "nbformat_minor": 0,
  "metadata": {
    "colab": {
      "name": "Donato_PracticeLabExam.ipynb",
      "provenance": [],
      "authorship_tag": "ABX9TyN5CM33QocQ/kajaNw0kNq6",
      "include_colab_link": true
    },
    "kernelspec": {
      "name": "python3",
      "display_name": "Python 3"
    },
    "language_info": {
      "name": "python"
    }
  },
  "cells": [
    {
      "cell_type": "markdown",
      "metadata": {
        "id": "view-in-github",
        "colab_type": "text"
      },
      "source": [
        "<a href=\"https://colab.research.google.com/github/DenzelRafaelDonato/DSA-58010/blob/main/Donato_PracticeLabExam.ipynb\" target=\"_parent\"><img src=\"https://colab.research.google.com/assets/colab-badge.svg\" alt=\"Open In Colab\"/></a>"
      ]
    },
    {
      "cell_type": "code",
      "source": [
        "# A python program that can determine the sum of even numbers in a given array list.\n",
        "testscores = [26,49,98,87,62,75] #data\n",
        "sumofeven=0\n",
        "\n",
        "for even in testscores: #for loop statement\n",
        "  if even%2==0: #using of if statement for the program to determine the even numbers\n",
        "    sumofeven +=even #formula for summation of even numbers\n",
        "print(\"The sum of even testscores are:\",sumofeven)"
      ],
      "metadata": {
        "colab": {
          "base_uri": "https://localhost:8080/"
        },
        "id": "awksV9az5zPe",
        "outputId": "8311fd7b-4cca-4653-c831-aa7782fff52f"
      },
      "execution_count": 97,
      "outputs": [
        {
          "output_type": "stream",
          "name": "stdout",
          "text": [
            "The sum of even testscores are: 186\n"
          ]
        }
      ]
    }
  ]
}