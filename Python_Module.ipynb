{
  "nbformat": 4,
  "nbformat_minor": 0,
  "metadata": {
    "colab": {
      "provenance": [],
      "authorship_tag": "ABX9TyMmC87q8B8W9iZcRC1q3IHy",
      "include_colab_link": true
    },
    "kernelspec": {
      "name": "python3",
      "display_name": "Python 3"
    },
    "language_info": {
      "name": "python"
    }
  },
  "cells": [
    {
      "cell_type": "markdown",
      "metadata": {
        "id": "view-in-github",
        "colab_type": "text"
      },
      "source": [
        "<a href=\"https://colab.research.google.com/github/DenzelRafaelDonato/DSA-58010/blob/main/Python_Module.ipynb\" target=\"_parent\"><img src=\"https://colab.research.google.com/assets/colab-badge.svg\" alt=\"Open In Colab\"/></a>"
      ]
    },
    {
      "cell_type": "markdown",
      "source": [
        "Example 1"
      ],
      "metadata": {
        "id": "dEzRHqZ850fT"
      }
    },
    {
      "cell_type": "code",
      "execution_count": 5,
      "metadata": {
        "colab": {
          "base_uri": "https://localhost:8080/"
        },
        "id": "hjcFE_Pf4xfU",
        "outputId": "df5da968-6cee-4127-a239-5ce416a03710"
      },
      "outputs": [
        {
          "output_type": "stream",
          "name": "stdout",
          "text": [
            "i\n",
            "f\n"
          ]
        }
      ],
      "source": [
        "import array\n",
        "array.typecodes #get all typecodes\n",
        "a = array.array('i',[1,2,3,4,5,6]) #initializing array a\n",
        "b = array.array('f',[1.5,2.5,3.5,4.5,5.5,6.5]) #initializing array b\n",
        "print(a.typecode)\n",
        "print(b.typecode)\n"
      ]
    },
    {
      "cell_type": "markdown",
      "source": [
        "Example 2. Create/convert the elements of array A to float/decimal number"
      ],
      "metadata": {
        "id": "HeoI05_c8gGD"
      }
    },
    {
      "cell_type": "code",
      "source": [
        "a = array.array('f',[1,2,3,4,5,6]) #initializing array a\n",
        "print(a)"
      ],
      "metadata": {
        "colab": {
          "base_uri": "https://localhost:8080/"
        },
        "id": "dEgnsRUX8hQg",
        "outputId": "e3c7696e-069b-4bbf-ca17-c1e9bedc69cc"
      },
      "execution_count": 18,
      "outputs": [
        {
          "output_type": "stream",
          "name": "stdout",
          "text": [
            "array('f', [1.0, 2.0, 3.0, 4.0, 5.0, 6.0])\n"
          ]
        }
      ]
    },
    {
      "cell_type": "markdown",
      "source": [
        "Example 3"
      ],
      "metadata": {
        "id": "qlbpiCyX-y3H"
      }
    },
    {
      "cell_type": "code",
      "source": [
        "from array import array #importing array from array module\n",
        "A = array ('i',[4,5,6,7]) #initializing array A\n",
        "B = array ('i',[1,2,3])   #initializing array B\n",
        "A.insert(1,2) #inserting element: 2 at index:1\n",
        "print(A)\n",
        "\n",
        "A.insert(-1,0) #insert element:0 at index:-1\n",
        "print(A)\n",
        "A.insert(6,8) #insert element:8 to index 6 which is out of range\n",
        "print(A)     #append the last element of the array\n",
        "B[2] = 5\n",
        "print(B)\n",
        "B[-1] = 9\n",
        "print(B)"
      ],
      "metadata": {
        "colab": {
          "base_uri": "https://localhost:8080/"
        },
        "id": "-UFbAGmt_HAq",
        "outputId": "2f2c4fb4-dcff-4846-a42a-85349a8d47a5"
      },
      "execution_count": 49,
      "outputs": [
        {
          "output_type": "stream",
          "name": "stdout",
          "text": [
            "array('i', [4, 2, 5, 6, 7])\n",
            "array('i', [4, 2, 5, 6, 0, 7])\n",
            "array('i', [4, 2, 5, 6, 0, 7, 8])\n",
            "array('i', [1, 2, 5])\n",
            "array('i', [1, 2, 9])\n"
          ]
        }
      ]
    },
    {
      "cell_type": "markdown",
      "source": [
        "Example 4: Linked List\n",
        "\n"
      ],
      "metadata": {
        "id": "V4zPMqkfGWmP"
      }
    },
    {
      "cell_type": "code",
      "source": [
        "#Node\n",
        "class Node:\n",
        "  #Function to initialize the node object\n",
        "  def __init__(self,data):\n",
        "    self.data = data #Assign data\n",
        "    self.next = None #initialize\n",
        "              #next as null\n",
        "\n",
        "#Linked List Class\n",
        "class LinkedList:\n",
        "  #Function to initialize the Linked\n",
        "  #List Object\n",
        "  def __init__(self):\n",
        "    self.head = None #initialize head as null\n",
        "\n",
        "  def printList(self):\n",
        "    temp = self.head\n",
        "    while(temp!=None):\n",
        "      print(temp.data)\n",
        "      temp = temp.next\n",
        "\n",
        "\n",
        "list = LinkedList()   #empty list\n",
        "list.head = Node(1)\n",
        "second = Node(2)\n",
        "third = Node(3)\n",
        "fourth = Node(4)\n",
        "\n",
        "list.head.next=second\n",
        "second.next=third\n",
        "third.next=fourth\n",
        "\n",
        "list.printList()\n"
      ],
      "metadata": {
        "colab": {
          "base_uri": "https://localhost:8080/"
        },
        "id": "bM1lvhD5FHo7",
        "outputId": "ceef2ede-ee8f-4d63-dcc9-a51e18d5098b"
      },
      "execution_count": 69,
      "outputs": [
        {
          "output_type": "stream",
          "name": "stdout",
          "text": [
            "1\n",
            "2\n",
            "3\n",
            "4\n"
          ]
        }
      ]
    }
  ]
}