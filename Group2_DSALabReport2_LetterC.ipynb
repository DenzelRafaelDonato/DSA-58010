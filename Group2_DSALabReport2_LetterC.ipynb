{
  "nbformat": 4,
  "nbformat_minor": 0,
  "metadata": {
    "colab": {
      "provenance": [],
      "include_colab_link": true
    },
    "kernelspec": {
      "name": "python3",
      "display_name": "Python 3"
    },
    "language_info": {
      "name": "python"
    }
  },
  "cells": [
    {
      "cell_type": "markdown",
      "metadata": {
        "id": "view-in-github",
        "colab_type": "text"
      },
      "source": [
        "<a href=\"https://colab.research.google.com/github/DenzelRafaelDonato/DSA-58010/blob/main/Group2_DSALabReport2_LetterC.ipynb\" target=\"_parent\"><img src=\"https://colab.research.google.com/assets/colab-badge.svg\" alt=\"Open In Colab\"/></a>"
      ]
    },
    {
      "cell_type": "code",
      "source": [
        "#Write a short recursive Python function that finds the minimum and maximum values in a sequence without using any loops\n",
        "#Set 2,4,6,8,10 as example sequence in the python program\n",
        "\n",
        "def Minimum(values):         #Def Function for Minimum Value\n",
        "   if len(values) == 0:                 \n",
        "     return None\n",
        "   if len(values) == 1:                 \n",
        "     return values[0]         \n",
        "   return min(values[0], Minimum(values[1:]))  #min function\n",
        "    \n",
        "def Maximum(values):         #Def Function for Maximum Value\n",
        "   if len(values) == 0:                 \n",
        "     return None         \n",
        "   if len(values) == 1:                 \n",
        "     return values[0]         \n",
        "   return max(values[0], Maximum(values[1:]))  #max function\n",
        "\n",
        "print(\"Minimum Value of the Sequence:\",Minimum([2,4,6,8,10])) \n",
        "print(\"Maximum Value of the Sequence:\",Maximum([2,4,6,8,10]))"
      ],
      "metadata": {
        "colab": {
          "base_uri": "https://localhost:8080/"
        },
        "id": "SnkiPt8JKvIV",
        "outputId": "71ca0207-bfc7-4637-cef2-c2098d72be8f"
      },
      "execution_count": null,
      "outputs": [
        {
          "output_type": "stream",
          "name": "stdout",
          "text": [
            "Minimum Value of the Sequence: 2\n",
            "Maximum Value of the Sequence: 10\n"
          ]
        }
      ]
    }
  ]
}