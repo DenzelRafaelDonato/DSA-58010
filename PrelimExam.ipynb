{
  "nbformat": 4,
  "nbformat_minor": 0,
  "metadata": {
    "colab": {
      "provenance": [],
      "authorship_tag": "ABX9TyNvQCLa0ayR0CHBYpzeai06",
      "include_colab_link": true
    },
    "kernelspec": {
      "name": "python3",
      "display_name": "Python 3"
    },
    "language_info": {
      "name": "python"
    }
  },
  "cells": [
    {
      "cell_type": "markdown",
      "metadata": {
        "id": "view-in-github",
        "colab_type": "text"
      },
      "source": [
        "<a href=\"https://colab.research.google.com/github/DenzelRafaelDonato/DSA-58010/blob/main/PrelimExam.ipynb\" target=\"_parent\"><img src=\"https://colab.research.google.com/assets/colab-badge.svg\" alt=\"Open In Colab\"/></a>"
      ]
    },
    {
      "cell_type": "code",
      "execution_count": 38,
      "metadata": {
        "colab": {
          "base_uri": "https://localhost:8080/"
        },
        "id": "JIiDT6afTRKR",
        "outputId": "13696a11-b525-46d0-8985-bcb0d61fa084"
      },
      "outputs": [
        {
          "output_type": "stream",
          "name": "stdout",
          "text": [
            "Array List: [1, 2, 3, 4, 5, 6, 7, 8, 9, 10]\n",
            "Number of Even Numbers: 5\n"
          ]
        }
      ],
      "source": [
        "list = [1,2,3,4,5,6,7,8,9,10]\n",
        "print(\"Array List:\",list)\n",
        "\n",
        "#even in the list array above\n",
        "even = [2,4,6,8,10]\n",
        "print(\"Number of Even Numbers:\",len(even))"
      ]
    }
  ]
}