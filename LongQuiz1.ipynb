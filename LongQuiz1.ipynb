{
  "nbformat": 4,
  "nbformat_minor": 0,
  "metadata": {
    "colab": {
      "provenance": [],
      "authorship_tag": "ABX9TyMzjWOmuVpF7HNumKWJlTnt",
      "include_colab_link": true
    },
    "kernelspec": {
      "name": "python3",
      "display_name": "Python 3"
    },
    "language_info": {
      "name": "python"
    }
  },
  "cells": [
    {
      "cell_type": "markdown",
      "metadata": {
        "id": "view-in-github",
        "colab_type": "text"
      },
      "source": [
        "<a href=\"https://colab.research.google.com/github/DenzelRafaelDonato/DSA-58010/blob/main/LongQuiz1.ipynb\" target=\"_parent\"><img src=\"https://colab.research.google.com/assets/colab-badge.svg\" alt=\"Open In Colab\"/></a>"
      ]
    },
    {
      "cell_type": "code",
      "execution_count": 39,
      "metadata": {
        "colab": {
          "base_uri": "https://localhost:8080/"
        },
        "id": "wnc1Zs0VUlJm",
        "outputId": "e804cbd1-d04e-423d-c60e-e078a5ea0376"
      },
      "outputs": [
        {
          "output_type": "stream",
          "name": "stdout",
          "text": [
            "DonatoK.RafaelDenzel\n"
          ]
        }
      ],
      "source": [
        "#Python program that appends each character of your full name and displays each character in reverse order.\n",
        "def reverse(name): #reverse function\n",
        "    string = \"\"   #string function\n",
        "    for i in name:  #for loop\n",
        "        string = i + string\n",
        "    return string\n",
        "  \n",
        "name = []         #array\n",
        "name.append(\"Denzel\") #array append function\n",
        "name.append(\"Rafael\")\n",
        "name.append(\"K.\")\n",
        "name.append(\"Donato\")\n",
        "print(reverse(name))"
      ]
    }
  ]
}