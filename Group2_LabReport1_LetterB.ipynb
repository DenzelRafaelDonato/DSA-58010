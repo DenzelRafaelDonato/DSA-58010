{
  "nbformat": 4,
  "nbformat_minor": 0,
  "metadata": {
    "colab": {
      "provenance": [],
      "include_colab_link": true
    },
    "kernelspec": {
      "name": "python3",
      "display_name": "Python 3"
    },
    "language_info": {
      "name": "python"
    }
  },
  "cells": [
    {
      "cell_type": "markdown",
      "metadata": {
        "id": "view-in-github",
        "colab_type": "text"
      },
      "source": [
        "<a href=\"https://colab.research.google.com/github/DenzelRafaelDonato/DSA-58010/blob/main/Group2_LabReport1_LetterB.ipynb\" target=\"_parent\"><img src=\"https://colab.research.google.com/assets/colab-badge.svg\" alt=\"Open In Colab\"/></a>"
      ]
    },
    {
      "cell_type": "code",
      "execution_count": null,
      "metadata": {
        "colab": {
          "base_uri": "https://localhost:8080/"
        },
        "id": "ImYbAxeUMCOH",
        "outputId": "23ed81d5-dba0-4675-98e4-fa594871c7f4"
      },
      "outputs": [
        {
          "output_type": "stream",
          "name": "stdout",
          "text": [
            "Name of the Polygon: Square \n",
            "Sides of the Polygon: 4\n",
            "\n",
            "\n",
            "All possible Area values of the polygons using the given side:\n",
            "The area of the square is: 16.0\n",
            "The area of the equilateral triangle is: 6.928\n",
            "The area of the hexagon is: 41.568\n",
            "The area of the octagon is: 77.248\n",
            "The area of the decagon is: 123.108\n",
            "The area of the heptagon is: 58.141999999999996\n",
            "The area of the nonagon is: 98.92800000000001\n"
          ]
        }
      ],
      "source": [
        "# Program using class method to represent the name, sides, and area of a polygon\n",
        "class Polygon:\n",
        "    def __init__(self,name,sides):\n",
        "        self.name = name\n",
        "        self.sides = sides\n",
        "    def NameOfPolygon(self):\n",
        "        return self.__name\n",
        "    def SetNameOfPolygon(self,name):\n",
        "        self.__name = name\n",
        "    def PolygonSides(self):\n",
        "        return self.__sides\n",
        "    def SetPolygonSides(self,sides):\n",
        "        self.__sides = sides\n",
        "    def displayPolygon(self):\n",
        "      print(\"Name of the Polygon:\",self.name,\"\\nSides of the Polygon:\",self.sides)\n",
        "\n",
        "p = Polygon(str(\"Square\"),int(4))\n",
        "p.displayPolygon()\n",
        "\n",
        "print(\"\\n\\nAll possible Area values of the polygons using the given side:\")\n",
        "\n",
        "#Encapsulation Method to find the area of Polygons\n",
        "class AreaForPolygons:\n",
        "  def __init__(self,side):\n",
        "    self.side = side\n",
        "  def Square(self):\n",
        "    return self.side * self.side\n",
        "  def EquilateralTriangle(self):\n",
        "    return self.side*self.side*0.433\n",
        "  def Hexagon(self):\n",
        "    return 2.598 * (self.side*self.side)\n",
        "  def Octagon(self):\n",
        "    return 4.828 * (self.side*self.side)\n",
        "  def Decagon(self):\n",
        "    return 2.5 * (self.side*self.side) * 3.0777\n",
        "  def Heptagon(self):\n",
        "    return 1.75 * ((self.side*self.side) * 2.0765)\n",
        "  def Nonagon(self):\n",
        "    return 2.25 * ((self.side*self.side) * 2.748)\n",
        "\n",
        "AreaForPolygons_object = AreaForPolygons(4) #number of side\n",
        "\n",
        "print(\"The area of the square is:\",float(AreaForPolygons_object.Square()))\n",
        "print(\"The area of the equilateral triangle is:\",float(AreaForPolygons_object.EquilateralTriangle()))\n",
        "print(\"The area of the hexagon is:\",float(AreaForPolygons_object.Hexagon()))\n",
        "print(\"The area of the octagon is:\",float(AreaForPolygons_object.Octagon()))\n",
        "print(\"The area of the decagon is:\",float(AreaForPolygons_object.Decagon()))\n",
        "print(\"The area of the heptagon is:\",float(AreaForPolygons_object.Heptagon()))\n",
        "print(\"The area of the nonagon is:\",float(AreaForPolygons_object.Nonagon()))"
      ]
    }
  ]
}