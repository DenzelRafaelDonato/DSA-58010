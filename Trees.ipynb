{
  "nbformat": 4,
  "nbformat_minor": 0,
  "metadata": {
    "colab": {
      "provenance": [],
      "collapsed_sections": [],
      "authorship_tag": "ABX9TyOp0Mkf0GoV7K3mfEQRRKgX",
      "include_colab_link": true
    },
    "kernelspec": {
      "name": "python3",
      "display_name": "Python 3"
    },
    "language_info": {
      "name": "python"
    }
  },
  "cells": [
    {
      "cell_type": "markdown",
      "metadata": {
        "id": "view-in-github",
        "colab_type": "text"
      },
      "source": [
        "<a href=\"https://colab.research.google.com/github/DenzelRafaelDonato/DSA-58010/blob/main/Trees.ipynb\" target=\"_parent\"><img src=\"https://colab.research.google.com/assets/colab-badge.svg\" alt=\"Open In Colab\"/></a>"
      ]
    },
    {
      "cell_type": "code",
      "execution_count": null,
      "metadata": {
        "colab": {
          "base_uri": "https://localhost:8080/"
        },
        "id": "C9ZlEQ3rgZpu",
        "outputId": "0e4dfc48-369c-4f17-8c62-d807c715f19f"
      },
      "outputs": [
        {
          "output_type": "stream",
          "name": "stdout",
          "text": [
            "{'a': ['c'], 'b': ['c', 'e'], 'c': ['a', 'b', 'd', 'e'], 'd': ['c'], 'e': ['c', 'b'], 'f': []}\n"
          ]
        }
      ],
      "source": [
        "graph = { \"a\" : [\"c\"],\n",
        "          \"b\" : [\"c\", \"e\"],\n",
        "          \"c\" : [\"a\", \"b\", \"d\", \"e\"],\n",
        "          \"d\" : [\"c\"],\n",
        "          \"e\" : [\"c\", \"b\"],\n",
        "          \"f\" : []\n",
        "        }\n",
        "print (graph)"
      ]
    },
    {
      "cell_type": "code",
      "source": [],
      "metadata": {
        "id": "7bYeVLGXFqWd"
      },
      "execution_count": null,
      "outputs": []
    }
  ]
}